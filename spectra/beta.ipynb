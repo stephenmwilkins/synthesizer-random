{
 "cells": [
  {
   "attachments": {},
   "cell_type": "markdown",
   "metadata": {},
   "source": [
    "# UV continuum slope\n",
    "\n",
    "This notebook demonstrates how to measure the UV continuum slope ($\\beta$) from synthesizer for different components.\n"
   ]
  },
  {
   "cell_type": "code",
   "execution_count": 33,
   "metadata": {},
   "outputs": [],
   "source": [
    "import os\n",
    "import numpy as np\n",
    "import matplotlib.pyplot as plt\n",
    "from synthesizer.filters import FilterCollection\n",
    "from synthesizer.grid import Grid\n",
    "from synthesizer.parametric import SFH, ZDist, Stars\n",
    "from synthesizer.parametric.galaxy import Galaxy\n",
    "from synthesizer.plt import single, single_histxy\n",
    "from unyt import yr, Myr, Angstrom, Msun\n",
    "from astropy.cosmology import Planck18 as cosmo"
   ]
  },
  {
   "attachments": {},
   "cell_type": "markdown",
   "metadata": {},
   "source": [
    "We begin by initialising a `Grid`:"
   ]
  },
  {
   "cell_type": "code",
   "execution_count": 34,
   "metadata": {},
   "outputs": [],
   "source": [
    "grid_name = \"bpass-2.2.1-bin_chabrier03-0.1,300.0_cloudy-c17.03-sps\"\n",
    "grid_dir = \"/Users/sw376/Dropbox/Research/data/synthesizer_old/grids/dev/\"\n",
    "grid = Grid(grid_name, grid_dir=grid_dir)"
   ]
  },
  {
   "attachments": {},
   "cell_type": "markdown",
   "metadata": {},
   "source": [
    "Next we can define the star formation and metal enrichment history:"
   ]
  },
  {
   "cell_type": "code",
   "execution_count": 35,
   "metadata": {},
   "outputs": [
    {
     "name": "stdout",
     "output_type": "stream",
     "text": [
      "----------\n",
      "SUMMARY OF PARAMETERISED STAR FORMATION HISTORY\n",
      "<class 'synthesizer.parametric.sf_hist.Constant'>\n",
      "duration: 10 Myr\n",
      "median age: 5.00 Myr\n",
      "mean age: 5.00 Myr\n",
      "----------\n",
      "\n",
      "----------\n",
      "SUMMARY OF BINNED SFZH\n",
      "median age: 5.01 Myr\n",
      "mean age: 5.05 Myr\n",
      "mean metallicity: 0.0010\n",
      "----------\n",
      "\n"
     ]
    }
   ],
   "source": [
    "# define the functional form of the star formation and metal enrichment histories\n",
    "sfh = SFH.Constant(duration=10 * Myr)  # constant star formation\n",
    "print(sfh)  # print sfh summary\n",
    "metal_dist = ZDist.DeltaConstant(log10metallicity=-3.0)  # constant metallicity\n",
    "\n",
    "# get the 2D star formation and metal enrichment history for the given SPS grid. This is (age, Z).\n",
    "stars = Stars(\n",
    "    grid.log10age,\n",
    "    grid.metallicity,\n",
    "    sf_hist=sfh,\n",
    "    metal_dist=metal_dist,\n",
    "    initial_mass=10**8,\n",
    ")\n",
    "print(stars)"
   ]
  },
  {
   "attachments": {},
   "cell_type": "markdown",
   "metadata": {},
   "source": [
    "Create a `Galaxy` object using this SZFH:"
   ]
  },
  {
   "cell_type": "code",
   "execution_count": 36,
   "metadata": {},
   "outputs": [],
   "source": [
    "galaxy = Galaxy(stars)"
   ]
  },
  {
   "cell_type": "code",
   "execution_count": 37,
   "metadata": {},
   "outputs": [
    {
     "data": {
      "text/plain": [
       "(<Figure size 350x500 with 1 Axes>,\n",
       " <Axes: xlabel='$\\\\lambda/[\\\\mathrm{Å}]$', ylabel='$L_{\\\\nu}/[\\\\mathrm{erg\\\\ / \\\\ (Hz s)}]$'>)"
      ]
     },
     "execution_count": 37,
     "metadata": {},
     "output_type": "execute_result"
    },
    {
     "data": {
      "image/png": "[encoded data removed]",
      "text/plain": [
       "<Figure size 350x500 with 1 Axes>"
      ]
     },
     "metadata": {},
     "output_type": "display_data"
    }
   ],
   "source": [
    "galaxy.stars.get_spectra_reprocessed(grid, fesc=0.0)\n",
    "galaxy.stars.plot_spectra()"
   ]
  },
  {
   "attachments": {},
   "cell_type": "markdown",
   "metadata": {},
   "source": [
    "#### Stellar "
   ]
  },
  {
   "cell_type": "code",
   "execution_count": 38,
   "metadata": {},
   "outputs": [
    {
     "data": {
      "text/plain": [
       "-2.911143434281315"
      ]
     },
     "execution_count": 38,
     "metadata": {},
     "output_type": "execute_result"
    }
   ],
   "source": [
    "sed = galaxy.stars.spectra[\"incident\"]\n",
    "sed.measure_beta(window=(1250, 1750, 2250, 2750))"
   ]
  },
  {
   "attachments": {},
   "cell_type": "markdown",
   "metadata": {},
   "source": [
    "#### Stellar + Nebular"
   ]
  },
  {
   "cell_type": "code",
   "execution_count": 39,
   "metadata": {},
   "outputs": [
    {
     "data": {
      "text/plain": [
       "-2.4628318112742362"
      ]
     },
     "execution_count": 39,
     "metadata": {},
     "output_type": "execute_result"
    }
   ],
   "source": [
    "sed = galaxy.stars.spectra[\"reprocessed\"]\n",
    "sed.measure_beta(window=(1250, 1750, 2250, 2750))"
   ]
  },
  {
   "attachments": {},
   "cell_type": "markdown",
   "metadata": {},
   "source": [
    "#### Just nebular"
   ]
  },
  {
   "cell_type": "code",
   "execution_count": 40,
   "metadata": {},
   "outputs": [
    {
     "data": {
      "text/plain": [
       "-1.3818458524357808"
      ]
     },
     "execution_count": 40,
     "metadata": {},
     "output_type": "execute_result"
    }
   ],
   "source": [
    "sed = galaxy.stars.spectra[\"nebular\"]\n",
    "sed.measure_beta(window=(1250, 1750, 2250, 2750))"
   ]
  }
 ],
 "metadata": {
  "kernelspec": {
   "display_name": "venv",
   "language": "python",
   "name": "python3"
  },
  "language_info": {
   "codemirror_mode": {
    "name": "ipython",
    "version": 3
   },
   "file_extension": ".py",
   "mimetype": "text/x-python",
   "name": "python",
   "nbconvert_exporter": "python",
   "pygments_lexer": "ipython3",
   "version": "3.11.5"
  },
  "vscode": {
   "interpreter": {
    "hash": "ff57c87997db22549ffe7b86683377f9c0eecfb11202951e1ea6b353cfae167f"
   }
  }
 },
 "nbformat": 4,
 "nbformat_minor": 4
}
